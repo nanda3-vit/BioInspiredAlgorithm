{
  "nbformat": 4,
  "nbformat_minor": 0,
  "metadata": {
    "colab": {
      "name": "CulturalAlgorithm.ipynb",
      "provenance": [],
      "collapsed_sections": [],
      "authorship_tag": "ABX9TyNPzx5oU98b1hq9H2FEXpPA",
      "include_colab_link": true
    },
    "kernelspec": {
      "name": "python3",
      "display_name": "Python 3"
    }
  },
  "cells": [
    {
      "cell_type": "markdown",
      "metadata": {
        "id": "view-in-github",
        "colab_type": "text"
      },
      "source": [
        "<a href=\"https://colab.research.google.com/github/nanda3-vit/BioInspiredAlgorithm/blob/master/CulturalAlgorithm.ipynb\" target=\"_parent\"><img src=\"https://colab.research.google.com/assets/colab-badge.svg\" alt=\"Open In Colab\"/></a>"
      ]
    },
    {
      "cell_type": "code",
      "metadata": {
        "id": "rle297IoJ1RH",
        "colab_type": "code",
        "colab": {}
      },
      "source": [
        "import random\n",
        "import matplotlib.pyplot as plt"
      ],
      "execution_count": 1,
      "outputs": []
    },
    {
      "cell_type": "code",
      "metadata": {
        "id": "R8zNwe59KBR8",
        "colab_type": "code",
        "colab": {}
      },
      "source": [
        "def objective_function(vector):\n",
        "    v = 0.0\n",
        "    for i in vector:\n",
        "        v = v + i ** 2.0\n",
        "    return v"
      ],
      "execution_count": 2,
      "outputs": []
    },
    {
      "cell_type": "code",
      "metadata": {
        "id": "60t8TM-0KFY5",
        "colab_type": "code",
        "colab": {}
      },
      "source": [
        "def rand_in_bounds(min, max):\n",
        "    return min + ((max-min) * random.random())"
      ],
      "execution_count": 3,
      "outputs": []
    },
    {
      "cell_type": "code",
      "metadata": {
        "id": "Lsp0PcGMKIuB",
        "colab_type": "code",
        "colab": {}
      },
      "source": [
        "def random_vector(minmax):\n",
        "    vector = list()\n",
        "    for i in range(len(minmax)):\n",
        "        rand = rand_in_bounds(minmax[i][0], minmax[i][1])\n",
        "        vector.append(rand)\n",
        "    return vector"
      ],
      "execution_count": 4,
      "outputs": []
    },
    {
      "cell_type": "code",
      "metadata": {
        "id": "_45-4q8HKNrZ",
        "colab_type": "code",
        "colab": {}
      },
      "source": [
        "def mutate_with_inf(candidate, beliefs, minmax):\n",
        "    v = list()\n",
        "    for i in range(len(candidate[\"vector\"])):\n",
        "        x = rand_in_bounds(beliefs[\"normative\"][i][0], beliefs[\"normative\"][i][1])\n",
        "        if x < minmax[i][0]: x = minmax[i][0]\n",
        "        if x > minmax[i][1]: x = minmax[i][1]\n",
        "        v.append(x)\n",
        "    return {\"vector\": v}"
      ],
      "execution_count": 5,
      "outputs": []
    },
    {
      "cell_type": "code",
      "metadata": {
        "id": "BQTirtIrKPEQ",
        "colab_type": "code",
        "colab": {}
      },
      "source": [
        "def binary_tournament(population):\n",
        "    i = random.randint(0, len(population)-1)\n",
        "    j = random.randint(0, len(population)-1)\n",
        "    while j == i:\n",
        "        j = random.randint(0, len(population)-1)\n",
        "    return population[i] if (population[i][\"fitness\"] < population[j][\"fitness\"]) else population[j]\n"
      ],
      "execution_count": 7,
      "outputs": []
    },
    {
      "cell_type": "code",
      "metadata": {
        "id": "35l0ZuMXKTBx",
        "colab_type": "code",
        "colab": {}
      },
      "source": [
        "def initialize_population(pop_size, search_space):\n",
        "    population = list()\n",
        "    for i in range(pop_size):\n",
        "        d = {\"vector\": random_vector(search_space)}\n",
        "        population.append(d)\n",
        "    return population"
      ],
      "execution_count": 8,
      "outputs": []
    },
    {
      "cell_type": "code",
      "metadata": {
        "id": "x3CPlBDUKWZZ",
        "colab_type": "code",
        "colab": {}
      },
      "source": [
        "def initialize_beliefspace(search_space):\n",
        "    belief_space = {}\n",
        "    belief_space[\"situational\"] = None\n",
        "    belief_space[\"normative\"] = list()\n",
        "    for i in range(len(search_space)):\n",
        "        belief_space[\"normative\"].append(list(search_space[i]))\n",
        "    return belief_space\n"
      ],
      "execution_count": 9,
      "outputs": []
    },
    {
      "cell_type": "code",
      "metadata": {
        "id": "STIK5vcwKauS",
        "colab_type": "code",
        "colab": {}
      },
      "source": [
        "def update_beliefspace_situational(belief_space, best):\n",
        "    curr_best = belief_space[\"situational\"]\n",
        "    if curr_best is None or best[\"fitness\"] < curr_best[\"fitness\"]:\n",
        "        belief_space[\"situational\"] = best"
      ],
      "execution_count": 10,
      "outputs": []
    },
    {
      "cell_type": "code",
      "metadata": {
        "id": "FVhL4PIcKeyq",
        "colab_type": "code",
        "colab": {}
      },
      "source": [
        "def update_beliefspace_normative(belief_space, acc):\n",
        "    for i in range(len(belief_space[\"normative\"])):\n",
        "        acc_min = min(acc, key = lambda v: v[\"vector\"][i])\n",
        "        belief_space[\"normative\"][i][0] = acc_min[\"vector\"][i]\n",
        "        acc_max = max(acc, key = lambda v: v[\"vector\"][i])\n",
        "        belief_space[\"normative\"][i][1] = acc_max[\"vector\"][i]"
      ],
      "execution_count": 11,
      "outputs": []
    },
    {
      "cell_type": "code",
      "metadata": {
        "id": "E_rZ118RKhm5",
        "colab_type": "code",
        "colab": {}
      },
      "source": [
        "def search(max_gens, search_space, pop_size, num_accepted):\n",
        "    # initialize\n",
        "    population = initialize_population(pop_size, search_space)\n",
        "    belief_space = initialize_beliefspace(search_space)\n",
        "    fitness_data = list()\n",
        "    \n",
        "    # evaluate\n",
        "    for c in population:\n",
        "        c[\"fitness\"] = objective_function(c[\"vector\"])\n",
        "    best = min(population, key = lambda c: c[\"fitness\"])\n",
        "    \n",
        "    # update situational knowledge\n",
        "    update_beliefspace_situational(belief_space, best)\n",
        "    \n",
        "    # add situational_belief to fitness_data\n",
        "    fitness_data.append(best[\"fitness\"])\n",
        "    \n",
        "    # evolution:\n",
        "    for gen in range(max_gens):\n",
        "        # create new generation\n",
        "        children = list()\n",
        "        for c in range(pop_size):\n",
        "            new_child = mutate_with_inf(population[c], belief_space, search_space)\n",
        "            children.append(new_child)\n",
        "\n",
        "        # evaluate generation\n",
        "        for c in children:\n",
        "            c[\"fitness\"] = objective_function(c[\"vector\"])\n",
        "        \n",
        "        # survivor selection\n",
        "        new_population = list()\n",
        "        for i in range(pop_size):\n",
        "            survivor = binary_tournament(children + population)\n",
        "            new_population.append(survivor)\n",
        "        population = new_population\n",
        "        \n",
        "        # get new current best\n",
        "        best = min(population, key = lambda c: c[\"fitness\"])\n",
        "        \n",
        "        # update situational knowledge\n",
        "        update_beliefspace_situational(belief_space, best)\n",
        "        \n",
        "        # add situational_belief to fitness_data\n",
        "        fitness_data.append(best[\"fitness\"])\n",
        "        \n",
        "        # update normative knowledge\n",
        "        population.sort(key = lambda c: c[\"fitness\"])\n",
        "        acccepted = population[:num_accepted]\n",
        "        update_beliefspace_normative(belief_space, acccepted)\n",
        "        \n",
        "        # user feedback\n",
        "#         if gen % 10 == 0:\n",
        "#             curr_best_fitness = belief_space[\"situational\"][\"fitness\"]\n",
        "#             print(\" > generation= \" + str(gen) + \", f= \" + str(curr_best_fitness))\n",
        "            \n",
        "    return belief_space[\"situational\"], fitness_data"
      ],
      "execution_count": 12,
      "outputs": []
    },
    {
      "cell_type": "code",
      "metadata": {
        "id": "EVZxswm2Kpf6",
        "colab_type": "code",
        "colab": {}
      },
      "source": [
        "def plot_fitness(data):\n",
        "    x = list(range(len(data)))\n",
        "    y = data\n",
        "    plt.plot(x, y)\n",
        "    plt.show()"
      ],
      "execution_count": 13,
      "outputs": []
    },
    {
      "cell_type": "code",
      "metadata": {
        "id": "IqXSFza2KsRl",
        "colab_type": "code",
        "colab": {
          "base_uri": "https://localhost:8080/",
          "height": 282
        },
        "outputId": "9f32dae2-215e-41f4-8019-6ad37b1ce115"
      },
      "source": [
        "\n",
        "if __name__ == \"__main__\":\n",
        "    # problem configuration\n",
        "    problem_size = 5\n",
        "    search_space = list()\n",
        "    for i in range(problem_size):\n",
        "      search_space.append([10, 20])\n",
        "    \n",
        "    # algorithm configuration\n",
        "    max_gens = 100\n",
        "    pop_size = 150\n",
        "    num_accepted = round(pop_size * 0.20)\n",
        "    \n",
        "    # execute the algorithm\n",
        "    best, fitness_data = search(max_gens, search_space, pop_size, num_accepted)\n",
        "    best_fitness = best[\"fitness\"]\n",
        "    best_vector = best[\"vector\"]\n",
        "    print(\"Solution: f= \" + str(best_fitness)) # + \", s= \" + str(best_vector))\n",
        "    plot_fitness(fitness_data)"
      ],
      "execution_count": 19,
      "outputs": [
        {
          "output_type": "stream",
          "text": [
            "Solution: f= 570.3701128562709\n"
          ],
          "name": "stdout"
        },
        {
          "output_type": "display_data",
          "data": {
            "image/png": "[encoded data removed]",
            "text/plain": [
              "<Figure size 432x288 with 1 Axes>"
            ]
          },
          "metadata": {
            "tags": [],
            "needs_background": "light"
          }
        }
      ]
    }
  ]
}