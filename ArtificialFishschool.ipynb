{
  "nbformat": 4,
  "nbformat_minor": 0,
  "metadata": {
    "colab": {
      "name": "ArtificialFishschool.ipynb",
      "provenance": [],
      "collapsed_sections": [],
      "authorship_tag": "ABX9TyMrs/sAcY2Dh3H/CDceIVXp",
      "include_colab_link": true
    },
    "kernelspec": {
      "name": "python3",
      "display_name": "Python 3"
    }
  },
  "cells": [
    {
      "cell_type": "markdown",
      "metadata": {
        "id": "view-in-github",
        "colab_type": "text"
      },
      "source": [
        "<a href=\"https://colab.research.google.com/github/nanda3-vit/BioInspiredAlgorithm/blob/master/ArtificialFishschool.ipynb\" target=\"_parent\"><img src=\"https://colab.research.google.com/assets/colab-badge.svg\" alt=\"Open In Colab\"/></a>"
      ]
    },
    {
      "cell_type": "code",
      "metadata": {
        "id": "SRuCsWbtDmrb",
        "colab_type": "code",
        "colab": {
          "base_uri": "https://localhost:8080/",
          "height": 1000
        },
        "outputId": "f23ab44b-f6e3-4071-878b-5c76cd1083cd"
      },
      "source": [
        "import random, math\n",
        "#from scipy.spatial import distance\n",
        "import copy\n",
        "\n",
        "#algo params\n",
        "dim=2\n",
        "population=10\n",
        "GroupFish=[]\n",
        "trytimes=3\n",
        "#Fish params\n",
        "Visual=0.2\n",
        "step=0.3\n",
        "\n",
        "#params\n",
        "i=0\n",
        "iteration=10\n",
        "\n",
        "StoreBest=[]\n",
        "#init Fish \n",
        "initialize(dim, population, GroupFish)\n",
        "\n",
        "B=getBestFish(GroupFish)\n",
        "StoreBest.append(copy.deepcopy(B))\n",
        "\n",
        "#Start iteration\n",
        "while i< iteration:\n",
        "\tj=0\n",
        "\twhile j<population:\n",
        "\t\tk=0\n",
        "\t\twhile k<trytimes:\t\n",
        "\t\t\ttemp_Position=makeTemp(GroupFish[j], Visual)\n",
        "\t\t\tif GroupFish[j].fitness<temp_Position.fitness:\n",
        "\t\t\t\tprey(GroupFish[j], temp_Position, B, dim, step, population, Visual, GroupFish, j)\n",
        "\t\t\t\tbreak\n",
        "\t\t\tk=k+1\n",
        "\t\tmoveRandomly(GroupFish[j], Visual)\n",
        "\t\tj=j+1\n",
        "\t\t#leapFish(GroupFish)\n",
        "\ti=i+1\n",
        "\tB=getBestFish(GroupFish)\n",
        "\tStoreBest.append(copy.deepcopy(B))\n",
        "\n",
        "BE=getBestFish(StoreBest)\n",
        "print (BE.fitness)"
      ],
      "execution_count": 18,
      "outputs": [
        {
          "output_type": "stream",
          "text": [
            "1\n",
            "1\n",
            "2\n",
            "2\n",
            "3\n",
            "3\n",
            "4\n",
            "4\n",
            "5\n",
            "5\n",
            "6\n",
            "6\n",
            "7\n",
            "7\n",
            "8\n",
            "8\n",
            "1\n",
            "1\n",
            "2\n",
            "2\n",
            "3\n",
            "3\n",
            "5\n",
            "5\n",
            "6\n",
            "6\n",
            "7\n",
            "7\n",
            "8\n",
            "8\n",
            "1\n",
            "1\n",
            "2\n",
            "2\n",
            "3\n",
            "3\n",
            "4\n",
            "4\n",
            "5\n",
            "5\n",
            "6\n",
            "6\n",
            "7\n",
            "7\n",
            "8\n",
            "8\n",
            "1\n",
            "1\n",
            "2\n",
            "2\n",
            "3\n",
            "3\n",
            "5\n",
            "5\n",
            "6\n",
            "6\n",
            "7\n",
            "7\n",
            "8\n",
            "8\n",
            "2\n",
            "2\n",
            "3\n",
            "3\n",
            "4\n",
            "4\n",
            "7\n",
            "7\n",
            "8\n",
            "8\n",
            "1\n",
            "1\n",
            "2\n",
            "2\n",
            "3\n",
            "3\n",
            "4\n",
            "4\n",
            "5\n",
            "5\n",
            "6\n",
            "6\n",
            "7\n",
            "7\n",
            "8\n",
            "8\n",
            "1\n",
            "1\n",
            "2\n",
            "2\n",
            "3\n",
            "3\n",
            "4\n",
            "4\n",
            "6\n",
            "6\n",
            "7\n",
            "7\n",
            "8\n",
            "8\n",
            "3\n",
            "3\n",
            "5\n",
            "5\n",
            "6\n",
            "6\n",
            "1\n",
            "1\n",
            "2\n",
            "2\n",
            "3\n",
            "3\n",
            "5\n",
            "5\n",
            "6\n",
            "6\n",
            "8\n",
            "8\n",
            "2\n",
            "2\n",
            "4\n",
            "4\n",
            "5\n",
            "5\n",
            "6\n",
            "6\n",
            "324.90418936642953\n"
          ],
          "name": "stdout"
        }
      ]
    },
    {
      "cell_type": "code",
      "metadata": {
        "id": "4RhDv5E1EO2Y",
        "colab_type": "code",
        "colab": {
          "base_uri": "https://localhost:8080/",
          "height": 34
        },
        "outputId": "92bf9f1e-60fa-42fd-e02c-39b520278136"
      },
      "source": [
        "def func(x):\n",
        "    x1, x2 = x\n",
        "    return 1 / x1 ** 2 + x1 ** 2 + 1 / x2 ** 2 + x2 ** 2\n",
        "\n",
        "\n",
        "from sko.AFSA import AFSA\n",
        "\n",
        "afsa = AFSA(func, n_dim=2, size_pop=50, max_iter=300,\n",
        "            max_try_num=100, step=0.5, visual=0.3,\n",
        "            q=0.98, delta=0.5)\n",
        "best_x, best_y = afsa.run()\n",
        "print(best_x, best_y)"
      ],
      "execution_count": 16,
      "outputs": [
        {
          "output_type": "stream",
          "text": [
            "[0.99998423 1.00002666] 4.000000003838184\n"
          ],
          "name": "stdout"
        }
      ]
    },
    {
      "cell_type": "code",
      "metadata": {
        "id": "ab4QmryRESTN",
        "colab_type": "code",
        "colab": {
          "base_uri": "https://localhost:8080/",
          "height": 118
        },
        "outputId": "a5a24773-37b8-4245-ba80-575233303b4d"
      },
      "source": [
        "pip install scikit-opt"
      ],
      "execution_count": 15,
      "outputs": [
        {
          "output_type": "stream",
          "text": [
            "Collecting scikit-opt\n",
            "  Downloading https://files.pythonhosted.org/packages/a8/8d/091971b7f1cefe4acfc5e207d7014c8afdf9d11b61bd5a41085e4347b378/scikit_opt-0.5.9-py3-none-any.whl\n",
            "Requirement already satisfied: scipy in /usr/local/lib/python3.6/dist-packages (from scikit-opt) (1.4.1)\n",
            "Requirement already satisfied: numpy in /usr/local/lib/python3.6/dist-packages (from scikit-opt) (1.18.5)\n",
            "Installing collected packages: scikit-opt\n",
            "Successfully installed scikit-opt-0.5.9\n"
          ],
          "name": "stdout"
        }
      ]
    }
  ]
}