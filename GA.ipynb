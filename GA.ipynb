{
  "nbformat": 4,
  "nbformat_minor": 0,
  "metadata": {
    "colab": {
      "name": "GA.ipynb",
      "provenance": []
    },
    "kernelspec": {
      "name": "python3",
      "display_name": "Python 3"
    }
  },
  "cells": [
    {
      "cell_type": "code",
      "metadata": {
        "id": "iCvGrFvtAmNR",
        "colab_type": "code",
        "colab": {
          "base_uri": "https://localhost:8080/",
          "height": 235
        },
        "outputId": "2e427db7-5c2b-4025-d553-ec8e65eb2474"
      },
      "source": [
        "pip install geneticalgorithm"
      ],
      "execution_count": 1,
      "outputs": [
        {
          "output_type": "stream",
          "text": [
            "Collecting geneticalgorithm\n",
            "  Downloading https://files.pythonhosted.org/packages/d3/ab/e62b94f9baa4b27bb45b1cc9ae315ecaee53ca96c16da5c4ad18e00dd45b/geneticalgorithm-1.0.1-py3-none-any.whl\n",
            "Requirement already satisfied: numpy in /usr/local/lib/python3.6/dist-packages (from geneticalgorithm) (1.18.5)\n",
            "Collecting func-timeout\n",
            "\u001b[?25l  Downloading https://files.pythonhosted.org/packages/b3/0d/bf0567477f7281d9a3926c582bfef21bff7498fc0ffd3e9de21811896a0b/func_timeout-4.3.5.tar.gz (44kB)\n",
            "\u001b[K     |████████████████████████████████| 51kB 5.1MB/s \n",
            "\u001b[?25hBuilding wheels for collected packages: func-timeout\n",
            "  Building wheel for func-timeout (setup.py) ... \u001b[?25l\u001b[?25hdone\n",
            "  Created wheel for func-timeout: filename=func_timeout-4.3.5-cp36-none-any.whl size=15078 sha256=7d71d40fe2a91f271ef9a05545ff847f10bc12eda35f2383d02e6a8a84fcaa60\n",
            "  Stored in directory: /root/.cache/pip/wheels/46/7c/4f/24f1d2d5bbff92219debe7ea19af84f76ddeb90dd4ec544f26\n",
            "Successfully built func-timeout\n",
            "Installing collected packages: func-timeout, geneticalgorithm\n",
            "Successfully installed func-timeout-4.3.5 geneticalgorithm-1.0.1\n"
          ],
          "name": "stdout"
        }
      ]
    },
    {
      "cell_type": "code",
      "metadata": {
        "id": "blALmc0JAvZg",
        "colab_type": "code",
        "colab": {
          "base_uri": "https://localhost:8080/",
          "height": 379
        },
        "outputId": "d8bba3ee-b016-44fb-f4c0-ea2c614d1101"
      },
      "source": [
        "import numpy as np\n",
        "from geneticalgorithm import geneticalgorithm as ga\n",
        "\n",
        "def f(X):\n",
        "    return np.sum(X)\n",
        "\n",
        "\n",
        "varbound=np.array([[0,10]]*3)\n",
        "\n",
        "model=ga(function=f,dimension=3,variable_type='real',variable_boundaries=varbound)\n",
        "\n",
        "model.run()"
      ],
      "execution_count": 2,
      "outputs": [
        {
          "output_type": "stream",
          "text": [
            " The best solution found:\n",
            " [0.00121573 0.00419363 0.00015045]\n",
            "\n",
            " Objective function:\n",
            " 0.0055598051274885485\n"
          ],
          "name": "stdout"
        },
        {
          "output_type": "display_data",
          "data": {
            "image/png": "[encoded data removed]",
            "text/plain": [
              "<Figure size 432x288 with 1 Axes>"
            ]
          },
          "metadata": {
            "tags": [],
            "needs_background": "light"
          }
        }
      ]
    },
    {
      "cell_type": "code",
      "metadata": {
        "id": "vRxynr9HBMd2",
        "colab_type": "code",
        "colab": {
          "base_uri": "https://localhost:8080/",
          "height": 379
        },
        "outputId": "c97ba103-3929-47d3-c48e-9dee374432d1"
      },
      "source": [
        "import numpy as np\n",
        "from geneticalgorithm import geneticalgorithm as ga\n",
        "\n",
        "def f(X):\n",
        "    pen=0\n",
        "    if X[0]+X[1]<2:\n",
        "        pen=500+1000*(2-X[0]-X[1])\n",
        "    return np.sum(X)+pen\n",
        "\n",
        "varbound=np.array([[0,10]]*3)\n",
        "\n",
        "model=ga(function=f,dimension=3,variable_type='real',variable_boundaries=varbound)\n",
        "\n",
        "model.run()\n"
      ],
      "execution_count": 3,
      "outputs": [
        {
          "output_type": "stream",
          "text": [
            " The best solution found:\n",
            " [7.98736635e-01 1.20215712e+00 6.92374273e-04]\n",
            "\n",
            " Objective function:\n",
            " 2.0015861288040697\n"
          ],
          "name": "stdout"
        },
        {
          "output_type": "display_data",
          "data": {
            "image/png": "[encoded data removed]",
            "text/plain": [
              "<Figure size 432x288 with 1 Axes>"
            ]
          },
          "metadata": {
            "tags": [],
            "needs_background": "light"
          }
        }
      ]
    },
    {
      "cell_type": "code",
      "metadata": {
        "id": "XQVsBVtcB2UX",
        "colab_type": "code",
        "colab": {
          "base_uri": "https://localhost:8080/",
          "height": 54
        },
        "outputId": "7aebf93f-7814-4e53-c314-152401fbba24"
      },
      "source": [
        "import numpy as np\n",
        "from geneticalgorithm import geneticalgorithm as ga\n",
        "\n",
        "def f(X):\n",
        "    return np.sum(X)\n",
        "\n",
        "\n",
        "model=ga(function=f,dimension=3,variable_type='bool')\n",
        "\n",
        "print(model.param)"
      ],
      "execution_count": 4,
      "outputs": [
        {
          "output_type": "stream",
          "text": [
            "{'max_num_iteration': None, 'population_size': 100, 'mutation_probability': 0.1, 'elit_ratio': 0.01, 'crossover_probability': 0.5, 'parents_portion': 0.3, 'crossover_type': 'uniform', 'max_iteration_without_improv': None}\n"
          ],
          "name": "stdout"
        }
      ]
    },
    {
      "cell_type": "code",
      "metadata": {
        "id": "WzNkItA_B5T-",
        "colab_type": "code",
        "colab": {
          "base_uri": "https://localhost:8080/",
          "height": 379
        },
        "outputId": "f4f93197-4ef4-446e-bdbb-f82f10e05dce"
      },
      "source": [
        "import numpy as np\n",
        "from geneticalgorithm import geneticalgorithm as ga\n",
        "\n",
        "def f(X):\n",
        "    return np.sum(X)\n",
        "\n",
        "\n",
        "varbound=np.array([[0,10]]*3)\n",
        "\n",
        "algorithm_param = {'max_num_iteration': 3000,\\\n",
        "                   'population_size':100,\\\n",
        "                   'mutation_probability':0.1,\\\n",
        "                   'elit_ratio': 0.01,\\\n",
        "                   'crossover_probability': 0.5,\\\n",
        "                   'parents_portion': 0.3,\\\n",
        "                   'crossover_type':'uniform',\\\n",
        "                   'max_iteration_without_improv':None}\n",
        "\n",
        "model=ga(function=f,\\\n",
        "            dimension=3,\\\n",
        "            variable_type='real',\\\n",
        "            variable_boundaries=varbound,\\\n",
        "            algorithm_parameters=algorithm_param)\n",
        "\n",
        "model.run()"
      ],
      "execution_count": 5,
      "outputs": [
        {
          "output_type": "stream",
          "text": [
            " The best solution found:\n",
            " [0.0009669  0.00189226 0.00083036]\n",
            "\n",
            " Objective function:\n",
            " 0.003689521211518443\n"
          ],
          "name": "stdout"
        },
        {
          "output_type": "display_data",
          "data": {
            "image/png": "[encoded data removed]",
            "text/plain": [
              "<Figure size 432x288 with 1 Axes>"
            ]
          },
          "metadata": {
            "tags": [],
            "needs_background": "light"
          }
        }
      ]
    }
  ]
}