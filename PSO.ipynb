{
  "nbformat": 4,
  "nbformat_minor": 0,
  "metadata": {
    "colab": {
      "name": "PSO.ipynb",
      "provenance": [],
      "collapsed_sections": [],
      "authorship_tag": "ABX9TyNr88vJ6RbIo9pqlCedRuS9",
      "include_colab_link": true
    },
    "kernelspec": {
      "name": "python3",
      "display_name": "Python 3"
    }
  },
  "cells": [
    {
      "cell_type": "markdown",
      "metadata": {
        "id": "view-in-github",
        "colab_type": "text"
      },
      "source": [
        "<a href=\"https://colab.research.google.com/github/nanda3-vit/BioInspiredAlgorithm/blob/master/PSO.ipynb\" target=\"_parent\"><img src=\"https://colab.research.google.com/assets/colab-badge.svg\" alt=\"Open In Colab\"/></a>"
      ]
    },
    {
      "cell_type": "code",
      "metadata": {
        "id": "Bu2IAnCeMdw4",
        "colab_type": "code",
        "colab": {
          "base_uri": "https://localhost:8080/",
          "height": 185
        },
        "outputId": "6e9ea7e3-0f8a-427a-a4ac-34e416565016"
      },
      "source": [
        "pip install --upgrade pyswarm"
      ],
      "execution_count": 2,
      "outputs": [
        {
          "output_type": "stream",
          "text": [
            "Collecting pyswarm\n",
            "  Downloading https://files.pythonhosted.org/packages/79/1e/254c108b5e65c65d57a83a9a448405ea8b6a6c5c10dada8bcab4e9d9a831/pyswarm-0.6.tar.gz\n",
            "Requirement already satisfied, skipping upgrade: numpy in /usr/local/lib/python3.6/dist-packages (from pyswarm) (1.18.5)\n",
            "Building wheels for collected packages: pyswarm\n",
            "  Building wheel for pyswarm (setup.py) ... \u001b[?25l\u001b[?25hdone\n",
            "  Created wheel for pyswarm: filename=pyswarm-0.6-cp36-none-any.whl size=4481 sha256=25ff7ca3463e970d253e92a45830a32bd2dc075e11e46b0852746ef1e7342e97\n",
            "  Stored in directory: /root/.cache/pip/wheels/37/c5/f6/b33b9ac00040cb95c1f00af982a4197334a672d6de43f4699f\n",
            "Successfully built pyswarm\n",
            "Installing collected packages: pyswarm\n",
            "Successfully installed pyswarm-0.6\n"
          ],
          "name": "stdout"
        }
      ]
    },
    {
      "cell_type": "code",
      "metadata": {
        "id": "sGELqoz4MtTi",
        "colab_type": "code",
        "colab": {
          "base_uri": "https://localhost:8080/",
          "height": 34
        },
        "outputId": "dcb009e2-1740-45a8-de26-b23d8f822aab"
      },
      "source": [
        "from pyswarm import pso\n",
        "\n",
        "def banana(x):\n",
        "    x1 = x[0]\n",
        "    x2 = x[1]\n",
        "    return x1**4 - 2*x2*x1**2 + x2**2 + x1**2 - 2*x1 + 5\n",
        "\n",
        "def con(x):\n",
        "    x1 = x[0]\n",
        "    x2 = x[1]\n",
        "    return [-(x1 + 0.25)**2 + 0.75*x2]\n",
        "\n",
        "lb = [-3, -1]\n",
        "ub = [2, 6]\n",
        "\n",
        "xopt, fopt = pso(banana, lb, ub, f_ieqcons=con)\n",
        "\n",
        "# Optimum should be around x=[0.5, 0.76] with banana(x)=4.5 and con(x)=0\n"
      ],
      "execution_count": 7,
      "outputs": [
        {
          "output_type": "stream",
          "text": [
            "Stopping search: Swarm best objective change less than 1e-08\n"
          ],
          "name": "stdout"
        }
      ]
    },
    {
      "cell_type": "code",
      "metadata": {
        "id": "-ZG-1sabM3Oc",
        "colab_type": "code",
        "colab": {
          "base_uri": "https://localhost:8080/",
          "height": 34
        },
        "outputId": "2d3e4168-9cfa-497f-fad8-a942245e69fb"
      },
      "source": [
        "import numpy as np\n",
        "from pyswarm import pso\n",
        "\n",
        "# Define the objective (to be minimize)\n",
        "def weight(x, *args):\n",
        "    H, d, t = x\n",
        "    B, rho, E, P = args\n",
        "    return rho*2*np.pi*d*t*np.sqrt((B/2)**2 + H**2)\n",
        "\n",
        "# Setup the constraint functions\n",
        "def yield_stress(x, *args):\n",
        "    H, d, t = x\n",
        "    B, rho, E, P = args\n",
        "    return (P*np.sqrt((B/2)**2 + H**2))/(2*t*np.pi*d*H)\n",
        "\n",
        "def buckling_stress(x, *args):\n",
        "    H, d, t = x\n",
        "    B, rho, E, P = args\n",
        "    return (np.pi**2*E*(d**2 + t**2))/(8*((B/2)**2 + H**2))\n",
        "\n",
        "def deflection(x, *args):\n",
        "    H, d, t = x\n",
        "    B, rho, E, P = args\n",
        "    return (P*np.sqrt((B/2)**2 + H**2)**3)/(2*t*np.pi*d*H**2*E)\n",
        "\n",
        "def constraints(x, *args):\n",
        "    strs = yield_stress(x, *args)\n",
        "    buck = buckling_stress(x, *args)\n",
        "    defl = deflection(x, *args)\n",
        "    return [100 - strs, buck - strs, 0.25 - defl]\n",
        "\n",
        "# Define the other parameters\n",
        "B = 60  # inches\n",
        "rho = 0.3  # lb/in^3\n",
        "E = 30000  # kpsi (1000-psi)\n",
        "P = 66  # kip (1000-lbs, force)\n",
        "args = (B, rho, E, P)\n",
        "\n",
        "# Define the lower and upper bounds for H, d, t, respectively\n",
        "lb = [10, 1, 0.01]\n",
        "ub = [30, 3, 0.25]\n",
        "\n",
        "xopt, fopt = pso(weight, lb, ub, f_ieqcons=constraints, args=args)\n",
        "\n",
        "# The optimal input values are approximately\n",
        "#     xopt = [29, 2.4, 0.06]\n",
        "# with function values approximately\n",
        "#     weight          = 12 lbs\n",
        "#     yield stress    = 100 kpsi (binding constraint)\n",
        "#     buckling stress = 150 kpsi\n",
        "#     deflection      = 0.2 in"
      ],
      "execution_count": 8,
      "outputs": [
        {
          "output_type": "stream",
          "text": [
            "Stopping search: maximum iterations reached --> 100\n"
          ],
          "name": "stdout"
        }
      ]
    }
  ]
}