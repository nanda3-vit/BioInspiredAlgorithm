{
  "nbformat": 4,
  "nbformat_minor": 0,
  "metadata": {
    "colab": {
      "name": "DE.ipynb",
      "provenance": [],
      "collapsed_sections": [],
      "authorship_tag": "ABX9TyOuASw18Xnlwl9JlQJ22+cx",
      "include_colab_link": true
    },
    "kernelspec": {
      "name": "python3",
      "display_name": "Python 3"
    }
  },
  "cells": [
    {
      "cell_type": "markdown",
      "metadata": {
        "id": "view-in-github",
        "colab_type": "text"
      },
      "source": [
        "<a href=\"https://colab.research.google.com/github/nanda3-vit/BioInspiredAlgorithm/blob/master/DE.ipynb\" target=\"_parent\"><img src=\"https://colab.research.google.com/assets/colab-badge.svg\" alt=\"Open In Colab\"/></a>"
      ]
    },
    {
      "cell_type": "code",
      "metadata": {
        "id": "cS96mxeHNxc4",
        "colab_type": "code",
        "colab": {}
      },
      "source": [
        "import numpy as np\n",
        "\n",
        "def de(fobj, bounds, mut=0.8, crossp=0.7, popsize=20, its=1000):\n",
        "    dimensions = len(bounds)\n",
        "    pop = np.random.rand(popsize, dimensions)\n",
        "    min_b, max_b = np.asarray(bounds).T\n",
        "    diff = np.fabs(min_b - max_b)\n",
        "    pop_denorm = min_b + pop * diff\n",
        "    fitness = np.asarray([fobj(ind) for ind in pop_denorm])\n",
        "    best_idx = np.argmin(fitness)\n",
        "    best = pop_denorm[best_idx]\n",
        "    for i in range(its):\n",
        "        for j in range(popsize):\n",
        "            idxs = [idx for idx in range(popsize) if idx != j]\n",
        "            a, b, c = pop[np.random.choice(idxs, 3, replace = False)]\n",
        "            mutant = np.clip(a + mut * (b - c), 0, 1)\n",
        "            cross_points = np.random.rand(dimensions) < crossp\n",
        "            if not np.any(cross_points):\n",
        "                cross_points[np.random.randint(0, dimensions)] = True\n",
        "            trial = np.where(cross_points, mutant, pop[j])\n",
        "            trial_denorm = min_b + trial * diff\n",
        "            f = fobj(trial_denorm)\n",
        "            if f < fitness[j]:\n",
        "                fitness[j] = f\n",
        "                pop[j] = trial\n",
        "                if f < fitness[best_idx]:\n",
        "                    best_idx = j\n",
        "                    best = trial_denorm\n",
        "        yield best, fitness[best_idx]\n"
      ],
      "execution_count": 1,
      "outputs": []
    },
    {
      "cell_type": "code",
      "metadata": {
        "id": "qW_Tt8YYOKFM",
        "colab_type": "code",
        "colab": {}
      },
      "source": [
        "it = list(de(lambda x: x**2, bounds=[(-100, 100)]))"
      ],
      "execution_count": 2,
      "outputs": []
    },
    {
      "cell_type": "code",
      "metadata": {
        "id": "UnLEom1xOLpZ",
        "colab_type": "code",
        "colab": {
          "base_uri": "https://localhost:8080/",
          "height": 34
        },
        "outputId": "e76e8eb6-fed0-4d22-ce55-d56d01b8e8b8"
      },
      "source": [
        "print(it[-1])"
      ],
      "execution_count": 3,
      "outputs": [
        {
          "output_type": "stream",
          "text": [
            "(array([0.]), array([0.]))\n"
          ],
          "name": "stdout"
        }
      ]
    },
    {
      "cell_type": "code",
      "metadata": {
        "id": "Q5cjK0TFO3Va",
        "colab_type": "code",
        "colab": {
          "base_uri": "https://localhost:8080/",
          "height": 34
        },
        "outputId": "614136c4-cebf-48b0-f5bc-e4a81281a01e"
      },
      "source": [
        "from scipy.optimize import rosen, differential_evolution\n",
        "bounds = [(0,2), (0, 2), (0, 2), (0, 2), (0, 2)]\n",
        "result = differential_evolution(rosen, bounds)\n",
        "result.x, result.fun"
      ],
      "execution_count": 7,
      "outputs": [
        {
          "output_type": "execute_result",
          "data": {
            "text/plain": [
              "(array([1., 1., 1., 1., 1.]), 0.0)"
            ]
          },
          "metadata": {
            "tags": []
          },
          "execution_count": 7
        }
      ]
    },
    {
      "cell_type": "code",
      "metadata": {
        "id": "2CEX8frpPSOC",
        "colab_type": "code",
        "colab": {
          "base_uri": "https://localhost:8080/",
          "height": 34
        },
        "outputId": "bd6e12ae-a16f-4413-f5a9-a8f42a7b0654"
      },
      "source": [
        "bounds = [(0,2), (0, 2), (0, 2), (0, 2), (0, 2)]\n",
        "result = differential_evolution(rosen, bounds, updating='deferred',\n",
        "                                workers=2)\n",
        "result.x, result.fun"
      ],
      "execution_count": 8,
      "outputs": [
        {
          "output_type": "execute_result",
          "data": {
            "text/plain": [
              "(array([1., 1., 1., 1., 1.]), 0.0)"
            ]
          },
          "metadata": {
            "tags": []
          },
          "execution_count": 8
        }
      ]
    },
    {
      "cell_type": "code",
      "metadata": {
        "id": "sKOqcF7aPYya",
        "colab_type": "code",
        "colab": {
          "base_uri": "https://localhost:8080/",
          "height": 87
        },
        "outputId": "956831ea-a009-4fdf-dff9-0918605b21bd"
      },
      "source": [
        "from scipy.optimize import NonlinearConstraint, Bounds\n",
        "def constr_f(x):\n",
        "    return np.array(x[0] + x[1])\n",
        "\n",
        "# the sum of x[0] and x[1] must be less than 1.9\n",
        "nlc = NonlinearConstraint(constr_f, -np.inf, 1.9)\n",
        "# specify limits using a `Bounds` object.\n",
        "bounds = Bounds([0., 0.], [2., 2.])\n",
        "result = differential_evolution(rosen, bounds, constraints=(nlc),\n",
        "                                seed=1)\n",
        "result.x, result.fun"
      ],
      "execution_count": 10,
      "outputs": [
        {
          "output_type": "stream",
          "text": [
            "/usr/local/lib/python3.6/dist-packages/scipy/optimize/_hessian_update_strategy.py:187: UserWarning: delta_grad == 0.0. Check if the approximated function is linear. If the function is linear better results can be obtained by defining the Hessian as zero instead of using quasi-Newton approximations.\n",
            "  'approximations.', UserWarning)\n"
          ],
          "name": "stderr"
        },
        {
          "output_type": "execute_result",
          "data": {
            "text/plain": [
              "(array([0.96627243, 0.93371891]), 0.0011376819954983107)"
            ]
          },
          "metadata": {
            "tags": []
          },
          "execution_count": 10
        }
      ]
    },
    {
      "cell_type": "code",
      "metadata": {
        "id": "DDSKKGS8Pr-5",
        "colab_type": "code",
        "colab": {
          "base_uri": "https://localhost:8080/",
          "height": 34
        },
        "outputId": "bd7f46f5-405b-40e8-e937-d568787ea7da"
      },
      "source": [
        "from scipy.optimize import differential_evolution\n",
        "import numpy as np\n",
        "def ackley(x):\n",
        "    arg1 = -0.2 * np.sqrt(0.5 * (x[0] ** 2 + x[1] ** 2))\n",
        "    arg2 = 0.5 * (np.cos(2. * np.pi * x[0]) + np.cos(2. * np.pi * x[1]))\n",
        "    return -20. * np.exp(arg1) - np.exp(arg2) + 20. + np.e\n",
        "bounds = [(-5, 5), (-5, 5)]\n",
        "result = differential_evolution(ackley, bounds)\n",
        "result.x, result.fun"
      ],
      "execution_count": 11,
      "outputs": [
        {
          "output_type": "execute_result",
          "data": {
            "text/plain": [
              "(array([0., 0.]), 4.440892098500626e-16)"
            ]
          },
          "metadata": {
            "tags": []
          },
          "execution_count": 11
        }
      ]
    }
  ]
}